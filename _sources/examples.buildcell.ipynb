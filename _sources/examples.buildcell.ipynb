{
 "cells": [
  {
   "cell_type": "markdown",
   "id": "be6185f2-8bfa-4499-bf7e-faadc6166383",
   "metadata": {},
   "source": [
    "# Random Structures via buildcell\n",
    "\n",
    "In Workflow random structures can be generated via the `wfl.generate.buildcell.run()` routine. \n",
    "It's functionality builds on [AIRSS](https://airss-docs.github.io/technical-reference/buildcell-manual)’s `buildcell` to constructs sensible random structures.\n",
    "\n",
    "The example below illustrates its application for the random generation of aluminum unit cells.\n",
    "Here, we are aiming for a total of 20 structures and, thus, set `inputs` to an iterable of that length.\n",
    "Next, we define an `OutputSpec` to handle the output structures that will be generated.\n",
    "In order to have a proper `buildcell_input` available, we are using the `wfl.generate.buildcell.create_input()` routine in this example\n",
    "where we pass arguments that characterise the systems we are aiming to generate.\n",
    "Finally, we set the `buildcell_cmd` appropriately to the `buildcell` executable we use on our machine and run the script\n",
    "to obtain the desired number of random Al-based unit cells."
   ]
  },
  {
   "cell_type": "code",
   "execution_count": null,
   "id": "4fd84da0-9483-4a01-9aa6-8de6d53aed9d",
   "metadata": {},
   "outputs": [],
   "source": [
    "import os\n",
    "\n",
    "from wfl.generate import buildcell\n",
    "from wfl.configset import OutputSpec\n",
    "\n",
    "\n",
    "inputs = range(20)\n",
    "outputspec = OutputSpec('buildcell_output.xyz')\n",
    "\n",
    "buildcell_input = buildcell.create_input(z=13, vol_per_atom=10, bond_lengths=2)\n",
    "\n",
    "outputs = buildcell.run(\n",
    "    inputs=inputs,\n",
    "    outputs=outputspec,\n",
    "    buildcell_input=buildcell_input,\n",
    "    buildcell_cmd='buildcell',\n",
    "    )"
   ]
  },
  {
   "cell_type": "code",
   "execution_count": null,
   "id": "082b6fa6-523c-487f-a07a-3c91aa520ebc",
   "metadata": {
    "nbsphinx": "hidden"
   },
   "outputs": [],
   "source": [
    "assert len(list(outputs)) == len(inputs)\n",
    "assert os.path.exists(outputspec.files[0]), f'{outputspec.files[0]} not found!'"
   ]
  }
 ],
 "metadata": {
  "kernelspec": {
   "display_name": "Python 3 (ipykernel)",
   "language": "python",
   "name": "python3"
  },
  "language_info": {
   "codemirror_mode": {
    "name": "ipython",
    "version": 3
   },
   "file_extension": ".py",
   "mimetype": "text/x-python",
   "name": "python",
   "nbconvert_exporter": "python",
   "pygments_lexer": "ipython3",
   "version": "3.9.13"
  }
 },
 "nbformat": 4,
 "nbformat_minor": 5
}
