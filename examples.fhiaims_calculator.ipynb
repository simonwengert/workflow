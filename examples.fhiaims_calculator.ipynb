{
 "cells": [
  {
   "cell_type": "markdown",
   "id": "559a6dcc-51ec-4612-88d5-7b99f35ac567",
   "metadata": {},
   "source": [
    "# FHI-Aims Calculator\n",
    "\n",
    "This example illustrates the usage of Workflow for efficiently performing density-functioncal theory (DFT) calculations with the all-electron electronic structure code [FHI-Aims](https://fhi-aims.org/).\n",
    "\n",
    "At first, we initialize a `ConfigSet` with a couple of (periodic and non-periodic) systems stored in `Input_Structures.xyz`.\n",
    "We also define an `OutputSpec` to handle the output that will additionally comprise values calculated by FHI-Aims.\\\n",
    "Next, we define various parameter that will be used during the calculations.\n",
    "Most of them define parameter settings for the DFT calculation (that will be written in the `control.in` input file of FHI-Aims).\n",
    "Note that for non-periodic systems the calculations will be performed with the exact same settings, but without parameter specific to periodic systems (e.g. `k_grid`, `compute_analytical_stress`, etc.).\n",
    "The last parameter `calculator_exec` defines the command used to call FHI-Aims and start an individual calculation, including specifications for the parallelization of that specific calcuation and excluding any redirection of the output (i.e. without e.g. `>> aims.out`).\\\n",
    "Now we define a `calculator` of the form ` (calc_constructor, args, kwargs)` using the `Aims` calculator of Workflow and the parameter dictionary we have just defined.\n",
    "Finally, we apply the `generic.run()` function to process all the input structures in parallel (defined via the `autopara_info` settings). The values of the calculated `properties` will be written into `Output_Structures.xyz` with keys that have the specified `output_prefix`. Note that for non-periodic systems the property \"stress\" will be ignored."
   ]
  },
  {
   "cell_type": "code",
   "execution_count": null,
   "id": "30a014ec-572b-481d-848e-f3ba0fea0564",
   "metadata": {},
   "outputs": [],
   "source": [
    "import pathlib\n",
    "\n",
    "import wfl\n",
    "from wfl.calculators.aims import Aims\n",
    "from wfl.calculators import generic\n",
    "from wfl.autoparallelize.autoparainfo import AutoparaInfo\n",
    "from wfl.configset import ConfigSet, OutputSpec\n",
    "\n",
    "\n",
    "workdir = pathlib.Path(wfl.__file__).parents[1]/\"docs/source/examples_files/fhiaims_calculator\"\n",
    "inputs = ConfigSet(workdir/'./Input_Structures.xyz')\n",
    "outputs = OutputSpec('Output_Structures.xyz')\n",
    "\n",
    "aims_kwargs = {\n",
    "        'xc':                        'pbe',\n",
    "        'spin':                      'none',\n",
    "        'relativistic':              'none',\n",
    "        'charge':                    0.,\n",
    "        'sc_iter_limit':             500,\n",
    "        'occupation_type':           'gaussian 0.01',\n",
    "        'charge_mix_param':          0.6,\n",
    "        'mixer':                     'pulay',\n",
    "        'n_max_pulay':               10,\n",
    "        'sc_accuracy_rho':           1e-2,\n",
    "        'sc_accuracy_eev':           1e-2,\n",
    "        'sc_accuracy_etot':          1e-4,\n",
    "        'sc_accuracy_forces':        1e-2,\n",
    "        'sc_accuracy_stress':        1e-1,\n",
    "        'compute_forces':            True,\n",
    "        'compute_analytical_stress': True,\n",
    "        'KS_method':                 'parallel',\n",
    "        'k_grid_density':            1e-1,\n",
    "        'calculator_exec':           'srun -n2 --exclusive --mem=2GB aims.210313.scalapack.mpi.x',\n",
    "        }\n",
    "\n",
    "\n",
    "calculator = (Aims, [], aims_kwargs)\n",
    "\n",
    "\n",
    "generic.run(\n",
    "    inputs = inputs,\n",
    "    outputs = outputs,\n",
    "    calculator = calculator,\n",
    "    properties = [\"energy\", \"forces\", \"stress\"],\n",
    "    output_prefix = \"FHIaims_\",\n",
    "    autopara_info = AutoparaInfo(\n",
    "        num_python_subprocesses = 4,\n",
    "        num_inputs_per_python_subprocess=1\n",
    "    )\n",
    ")"
   ]
  },
  {
   "cell_type": "code",
   "execution_count": null,
   "id": "3b2ea6aa-299e-4834-b6cf-a3718462b0a4",
   "metadata": {
    "nbsphinx": "hidden"
   },
   "outputs": [],
   "source": [
    "import os\n",
    "import ase.io\n",
    "\n",
    "\n",
    "assert os.path.exists(outputs.files[0]), f'{outputs.files[0]} not found!'\n",
    "outputs_atoms = ase.io.read(outputs.files[0], ':')\n",
    "assert len(list(outputs_atoms)) == len(list(inputs))\n",
    "for atoms_i in outputs_atoms:\n",
    "    assert not atoms_i.info.get('DFT_FAILED_AIMS', False), f'Calculation with ID_mol={atoms_i.info[\"ID_mol\"]} failed.'\n"
   ]
  }
 ],
 "metadata": {
  "kernelspec": {
   "display_name": "Python 3 (ipykernel)",
   "language": "python",
   "name": "python3"
  },
  "language_info": {
   "codemirror_mode": {
    "name": "ipython",
    "version": 3
   },
   "file_extension": ".py",
   "mimetype": "text/x-python",
   "name": "python",
   "nbconvert_exporter": "python",
   "pygments_lexer": "ipython3",
   "version": "3.9.13"
  }
 },
 "nbformat": 4,
 "nbformat_minor": 5
}
